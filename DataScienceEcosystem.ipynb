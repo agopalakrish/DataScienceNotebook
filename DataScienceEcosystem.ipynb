{
 "cells": [
  {
   "cell_type": "markdown",
   "id": "7a2e78f7-dd04-4c35-a745-4ef4d3379853",
   "metadata": {},
   "source": [
    "# Data Science Tools and Ecosystem"
   ]
  },
  {
   "cell_type": "markdown",
   "id": "d8510386-3310-4dab-a06d-e8c9e2c924e2",
   "metadata": {},
   "source": [
    "In this notebook, Data Science Tools and Ecosystem are summarized.\n"
   ]
  },
  {
   "cell_type": "markdown",
   "id": "c2655f02-6253-4760-984b-3a858c94eea9",
   "metadata": {},
   "source": [
    "Some of the popular languages that Data Scientists use are:\n",
    "\n",
    "1. Python\n",
    "2. R\n",
    "3. SQL\n",
    "4. c++\n",
    "5. java, etc..."
   ]
  },
  {
   "cell_type": "markdown",
   "id": "1fde9ac6-3a37-4416-9867-fa1d8cd4362b",
   "metadata": {},
   "source": [
    "Some of the commonly used libraries used by Data Scientists include:\n",
    "\n",
    "1. NumPy\n",
    "2. Pandas\n",
    "3. Matplotlib\n",
    "4. pyTorch\n",
    "5. Keras, etc...;"
   ]
  },
  {
   "cell_type": "markdown",
   "id": "a3a7cfff-5be2-4a94-bb9a-6a66d6d8bfea",
   "metadata": {},
   "source": [
    "| Data Science Tools |\n",
    "|-------------------|\n",
    "| Jupyter Notebook   |\n",
    "| RStudio            |\n",
    "| VS Code            |"
   ]
  },
  {
   "cell_type": "markdown",
   "id": "251306e6-9feb-46ff-b617-03d708cc1eb1",
   "metadata": {},
   "source": [
    "### Below are a few examples of evaluating arithmetic expressions in Python."
   ]
  },
  {
   "cell_type": "code",
   "execution_count": 1,
   "id": "8d397766-74aa-43cb-b86d-9ce681658ae6",
   "metadata": {},
   "outputs": [
    {
     "data": {
      "text/plain": [
       "17"
      ]
     },
     "execution_count": 1,
     "metadata": {},
     "output_type": "execute_result"
    }
   ],
   "source": [
    "# This is a simple arithmetic expression to multiply then add integers\n",
    "result = (3 * 4) + 5\n",
    "result"
   ]
  },
  {
   "cell_type": "code",
   "execution_count": 2,
   "id": "6a731a54-170e-4aa0-ba1d-3e8d725990db",
   "metadata": {},
   "outputs": [
    {
     "data": {
      "text/plain": [
       "3.3333333333333335"
      ]
     },
     "execution_count": 2,
     "metadata": {},
     "output_type": "execute_result"
    }
   ],
   "source": [
    "# This will convert 200 minutes to hours by dividing by 60\n",
    "hours = 200 / 60\n",
    "hours"
   ]
  },
  {
   "cell_type": "markdown",
   "id": "e8a5f4ba-377e-455b-913b-55986c71e28d",
   "metadata": {},
   "source": [
    "_Objectives:_\n",
    "\n",
    "* List popular languages for Data Science.\n",
    "* Highlight commonly used libraries in Data Science.\n",
    "* Showcase development environment open source tools used in Data Science.\n",
    "* Demonstrate evaluating arithmetic expressions in Python.\n",
    "* Show a practical example of converting minutes to hours."
   ]
  },
  {
   "cell_type": "markdown",
   "id": "55166f98-766f-408c-84e9-f8a81b69afe0",
   "metadata": {},
   "source": [
    "## Author\n",
    "Anand Gopalakrishnamurthy"
   ]
  }
 ],
 "metadata": {
  "kernelspec": {
   "display_name": "Python 3 (ipykernel)",
   "language": "python",
   "name": "python3"
  },
  "language_info": {
   "codemirror_mode": {
    "name": "ipython",
    "version": 3
   },
   "file_extension": ".py",
   "mimetype": "text/x-python",
   "name": "python",
   "nbconvert_exporter": "python",
   "pygments_lexer": "ipython3",
   "version": "3.11.7"
  }
 },
 "nbformat": 4,
 "nbformat_minor": 5
}
